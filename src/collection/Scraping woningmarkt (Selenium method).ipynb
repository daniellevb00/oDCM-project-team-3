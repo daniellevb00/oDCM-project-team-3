{
 "cells": [
  {
   "cell_type": "markdown",
   "id": "d5b6dfd0",
   "metadata": {},
   "source": [
    "# Scraping www.huizenzoeker.nl/woningmarkt/ for all municipalities in The Netherlands"
   ]
  },
  {
   "cell_type": "markdown",
   "id": "5c512931",
   "metadata": {},
   "source": [
    "### ODCM project - Team 3 "
   ]
  },
  {
   "cell_type": "markdown",
   "id": "cadc8af1",
   "metadata": {},
   "source": [
    "Which municipalities in the Netherlands are hit hardest by the Dutch Housing crisis, and which the least? \n",
    "We use the site www.huizenzoeker.nl/woningmarkt/ to analyse the Dutch Housing Market, including the gem. vraagprijs, # verkochte woningen, gem. vierkante meter prijs, % overboden. "
   ]
  },
  {
   "cell_type": "markdown",
   "id": "6909316b",
   "metadata": {},
   "source": [
    "## Step 1: Loading all the basics"
   ]
  },
  {
   "cell_type": "code",
   "execution_count": 1,
   "id": "027cf859",
   "metadata": {},
   "outputs": [],
   "source": [
    "#import the packages (after you have installed them properly)\n",
    "from bs4 import BeautifulSoup\n",
    "import requests\n",
    "import re\n",
    "import pandas as pd \n",
    "import time \n",
    "from functools import reduce\n",
    "from selenium import webdriver\n",
    "from selenium.webdriver.chrome.options import Options\n",
    "# pip install webdriver-manager\n",
    "from webdriver_manager.chrome import ChromeDriverManager\n",
    "from selenium.webdriver.common.keys import Keys"
   ]
  },
  {
   "cell_type": "code",
   "execution_count": 2,
   "id": "51ffaa39",
   "metadata": {},
   "outputs": [],
   "source": [
    "#set the basis for BeautifulSoup \n",
    "url = 'https://www.huizenzoeker.nl/woningmarkt/'\n",
    "res = requests.get(url)\n",
    "soup = BeautifulSoup(res.text, 'html.parser')"
   ]
  },
  {
   "cell_type": "code",
   "execution_count": 3,
   "id": "322ff52b",
   "metadata": {},
   "outputs": [],
   "source": [
    "#set the basis for Selenium\n",
    "chrome_path = \"C:\\Documents\\MSc_Marketing_Analytics\\oDCM\\oDCM-project-team-3\\src\\collection\\chromedriver.exe\" #depends on your own path\n",
    "# driver = webdriver.Chrome() \n",
    "# driver = webdriver.Chrome()(ChromeDriverManager().install()) #FEEDBACK UPDATE"
   ]
  },
  {
   "cell_type": "markdown",
   "id": "a13a8dd4",
   "metadata": {},
   "source": [
    "## Step 2: Collecting the URLs"
   ]
  },
  {
   "cell_type": "markdown",
   "id": "b7c679fb",
   "metadata": {},
   "source": [
    "### Step 2a: Extracting first the provinces, and then all the municipalities "
   ]
  },
  {
   "cell_type": "markdown",
   "id": "b582c35f",
   "metadata": {},
   "source": [
    "Here we collect the URLs for all municipalities of a province using Selenium to make the process more efficient."
   ]
  },
  {
   "cell_type": "markdown",
   "id": "ea0f9dba",
   "metadata": {},
   "source": [
    "We first construct a base url and a province_url which once appended together creates the URL to each of the woningmarkt pages for each province. We generate the generate_links() function to append these parts of the URL together. "
   ]
  },
  {
   "cell_type": "code",
   "execution_count": 4,
   "id": "681ddc48",
   "metadata": {},
   "outputs": [],
   "source": [
    "base_url = 'https://www.huizenzoeker.nl/woningmarkt/'"
   ]
  },
  {
   "cell_type": "code",
   "execution_count": 5,
   "id": "13a00bdc",
   "metadata": {},
   "outputs": [],
   "source": [
    "province_url = ['noord-holland/', 'zuid-holland/', 'zeeland/', 'noord-brabant/', 'utrecht/', 'flevoland/', \n",
    "                'friesland/', 'groningen/', 'drenthe/', 'overijssel/', 'gelderland/', 'limburg/']"
   ]
  },
  {
   "cell_type": "code",
   "execution_count": 6,
   "id": "b60a3e94",
   "metadata": {},
   "outputs": [],
   "source": [
    "def generate_links(base_url,province_url): \n",
    "    page_links = []\n",
    "    for i in province_url:\n",
    "        full_links = base_url + i\n",
    "        page_links.append(full_links)  \n",
    "    return page_links"
   ]
  },
  {
   "cell_type": "code",
   "execution_count": 7,
   "id": "998d8565",
   "metadata": {},
   "outputs": [
    {
     "name": "stdout",
     "output_type": "stream",
     "text": [
      "['https://www.huizenzoeker.nl/woningmarkt/noord-holland/', 'https://www.huizenzoeker.nl/woningmarkt/zuid-holland/', 'https://www.huizenzoeker.nl/woningmarkt/zeeland/', 'https://www.huizenzoeker.nl/woningmarkt/noord-brabant/', 'https://www.huizenzoeker.nl/woningmarkt/utrecht/', 'https://www.huizenzoeker.nl/woningmarkt/flevoland/', 'https://www.huizenzoeker.nl/woningmarkt/friesland/', 'https://www.huizenzoeker.nl/woningmarkt/groningen/', 'https://www.huizenzoeker.nl/woningmarkt/drenthe/', 'https://www.huizenzoeker.nl/woningmarkt/overijssel/', 'https://www.huizenzoeker.nl/woningmarkt/gelderland/', 'https://www.huizenzoeker.nl/woningmarkt/limburg/']\n"
     ]
    }
   ],
   "source": [
    "page_links = generate_links(base_url,province_url)\n",
    "print(page_links)"
   ]
  },
  {
   "cell_type": "markdown",
   "id": "8ec358d9",
   "metadata": {},
   "source": [
    "We then use this list of all provinces, to extract all municipalities from each, making use of window handling (**STATUS: this code doesn't fully work yet!!**)"
   ]
  },
  {
   "cell_type": "code",
   "execution_count": 8,
   "id": "4199892a",
   "metadata": {},
   "outputs": [],
   "source": [
    "driver = webdriver.Chrome()"
   ]
  },
  {
   "cell_type": "code",
   "execution_count": 9,
   "id": "d0e9fe8f",
   "metadata": {},
   "outputs": [],
   "source": [
    "for x in range(len(page_links)): #WARNING: running this code snippet will open 12 Chrome tabs automatically!!\n",
    "    driver.get(page_links[x])\n",
    "    if x < 11:\n",
    "        driver.execute_script(\"window.open('');\")\n",
    "        driver.switch_to.window(driver.window_handles[x+1])"
   ]
  },
  {
   "cell_type": "code",
   "execution_count": 10,
   "id": "c0e5c6ae",
   "metadata": {},
   "outputs": [
    {
     "data": {
      "text/plain": [
       "['CDwindow-CC669956D4A1E658792951450BA22188',\n",
       " 'CDwindow-D5600D8AD34333A37BAC1EB509E706C5',\n",
       " 'CDwindow-60375886CA3E9BD5DD260053ED8CFCBC',\n",
       " 'CDwindow-1D1E827EA866A5D2FA668F0F627FCD72',\n",
       " 'CDwindow-F369D1526A4E65D2E0E7267E3275C5C1',\n",
       " 'CDwindow-3B37E6FF3E658D41A36B0038CCB65704',\n",
       " 'CDwindow-CEBAA1F84E669A0EAC80CF6ADB0E45BD',\n",
       " 'CDwindow-6636034D3056B256F1EEC8D39F213278',\n",
       " 'CDwindow-2F3CC3ED96FD588292CE624DFA2AB47E',\n",
       " 'CDwindow-16419C7AA1C7C977848925BEA8A55AAA',\n",
       " 'CDwindow-2697384D9C6714B39A25BD8993C14B12',\n",
       " 'CDwindow-5A7B3B46F97174405390588802231698']"
      ]
     },
     "execution_count": 10,
     "metadata": {},
     "output_type": "execute_result"
    }
   ],
   "source": [
    "driver.window_handles"
   ]
  },
  {
   "cell_type": "code",
   "execution_count": 11,
   "id": "638c3768",
   "metadata": {},
   "outputs": [],
   "source": [
    "page_urls_full = []\n",
    "for handle in driver.window_handles:        \n",
    "    driver.switch_to.window(handle)\n",
    "    elem1 = driver.find_elements_by_xpath(\"//li//div//a[@href]\")\n",
    "    \n",
    "    for elem in elem1:\n",
    "        urls = elem.get_attribute('href')\n",
    "        page_urls_full.append(urls)   "
   ]
  },
  {
   "cell_type": "code",
   "execution_count": 12,
   "id": "20eda505",
   "metadata": {},
   "outputs": [
    {
     "data": {
      "text/plain": [
       "['https://www.huizenzoeker.nl/woningmarkt/noord-holland/aalsmeer/',\n",
       " 'https://www.huizenzoeker.nl/woningmarkt/noord-holland/alkmaar/',\n",
       " 'https://www.huizenzoeker.nl/woningmarkt/noord-holland/amstelveen/',\n",
       " 'https://www.huizenzoeker.nl/woningmarkt/noord-holland/amsterdam/',\n",
       " 'https://www.huizenzoeker.nl/woningmarkt/noord-holland/beemster/',\n",
       " 'https://www.huizenzoeker.nl/woningmarkt/noord-holland/bergen-nh/',\n",
       " 'https://www.huizenzoeker.nl/woningmarkt/noord-holland/beverwijk/',\n",
       " 'https://www.huizenzoeker.nl/woningmarkt/noord-holland/blaricum/',\n",
       " 'https://www.huizenzoeker.nl/woningmarkt/noord-holland/bloemendaal/',\n",
       " 'https://www.huizenzoeker.nl/woningmarkt/noord-holland/castricum/',\n",
       " 'https://www.huizenzoeker.nl/woningmarkt/noord-holland/den-helder/',\n",
       " 'https://www.huizenzoeker.nl/woningmarkt/noord-holland/diemen/',\n",
       " 'https://www.huizenzoeker.nl/woningmarkt/noord-holland/drechterland/',\n",
       " 'https://www.huizenzoeker.nl/woningmarkt/noord-holland/edam-volendam/',\n",
       " 'https://www.huizenzoeker.nl/woningmarkt/noord-holland/enkhuizen/',\n",
       " 'https://www.huizenzoeker.nl/woningmarkt/noord-holland/gooise-meren/',\n",
       " 'https://www.huizenzoeker.nl/woningmarkt/noord-holland/haarlem/',\n",
       " 'https://www.huizenzoeker.nl/woningmarkt/noord-holland/haarlemmermeer/',\n",
       " 'https://www.huizenzoeker.nl/woningmarkt/noord-holland/heemskerk/',\n",
       " 'https://www.huizenzoeker.nl/woningmarkt/noord-holland/heemstede/',\n",
       " 'https://www.huizenzoeker.nl/woningmarkt/noord-holland/heerhugowaard/',\n",
       " 'https://www.huizenzoeker.nl/woningmarkt/noord-holland/heiloo/',\n",
       " 'https://www.huizenzoeker.nl/woningmarkt/noord-holland/hilversum/',\n",
       " 'https://www.huizenzoeker.nl/woningmarkt/noord-holland/hollands-kroon/',\n",
       " 'https://www.huizenzoeker.nl/woningmarkt/noord-holland/hoorn/',\n",
       " 'https://www.huizenzoeker.nl/woningmarkt/noord-holland/huizen/',\n",
       " 'https://www.huizenzoeker.nl/woningmarkt/noord-holland/koggenland/',\n",
       " 'https://www.huizenzoeker.nl/woningmarkt/noord-holland/landsmeer/',\n",
       " 'https://www.huizenzoeker.nl/woningmarkt/noord-holland/langedijk/',\n",
       " 'https://www.huizenzoeker.nl/woningmarkt/noord-holland/laren/',\n",
       " 'https://www.huizenzoeker.nl/woningmarkt/noord-holland/medemblik/',\n",
       " 'https://www.huizenzoeker.nl/woningmarkt/noord-holland/oostzaan/',\n",
       " 'https://www.huizenzoeker.nl/woningmarkt/noord-holland/opmeer/',\n",
       " 'https://www.huizenzoeker.nl/woningmarkt/noord-holland/ouder-amstel/',\n",
       " 'https://www.huizenzoeker.nl/woningmarkt/noord-holland/purmerend/',\n",
       " 'https://www.huizenzoeker.nl/woningmarkt/noord-holland/schagen/',\n",
       " 'https://www.huizenzoeker.nl/woningmarkt/noord-holland/stede-broec/',\n",
       " 'https://www.huizenzoeker.nl/woningmarkt/noord-holland/texel/',\n",
       " 'https://www.huizenzoeker.nl/woningmarkt/noord-holland/uitgeest/',\n",
       " 'https://www.huizenzoeker.nl/woningmarkt/noord-holland/uithoorn/',\n",
       " 'https://www.huizenzoeker.nl/woningmarkt/noord-holland/velsen/',\n",
       " 'https://www.huizenzoeker.nl/woningmarkt/noord-holland/waterland/',\n",
       " 'https://www.huizenzoeker.nl/woningmarkt/noord-holland/weesp/',\n",
       " 'https://www.huizenzoeker.nl/woningmarkt/noord-holland/wijdemeren/',\n",
       " 'https://www.huizenzoeker.nl/woningmarkt/noord-holland/wormerland/',\n",
       " 'https://www.huizenzoeker.nl/woningmarkt/noord-holland/zaanstad/',\n",
       " 'https://www.huizenzoeker.nl/woningmarkt/noord-holland/zandvoort/',\n",
       " 'https://www.huizenzoeker.nl/woningmarkt/zuid-holland/alblasserdam/',\n",
       " 'https://www.huizenzoeker.nl/woningmarkt/zuid-holland/albrandswaard/',\n",
       " 'https://www.huizenzoeker.nl/woningmarkt/zuid-holland/alphen-aan-den-rijn/',\n",
       " 'https://www.huizenzoeker.nl/woningmarkt/zuid-holland/barendrecht/',\n",
       " 'https://www.huizenzoeker.nl/woningmarkt/zuid-holland/bodegraven-reeuwijk/',\n",
       " 'https://www.huizenzoeker.nl/woningmarkt/zuid-holland/brielle/',\n",
       " 'https://www.huizenzoeker.nl/woningmarkt/zuid-holland/capelle-aan-den-ijssel/',\n",
       " 'https://www.huizenzoeker.nl/woningmarkt/zuid-holland/delft/',\n",
       " 'https://www.huizenzoeker.nl/woningmarkt/zuid-holland/dordrecht/',\n",
       " 'https://www.huizenzoeker.nl/woningmarkt/zuid-holland/goeree-overflakkee/',\n",
       " 'https://www.huizenzoeker.nl/woningmarkt/zuid-holland/gorinchem/',\n",
       " 'https://www.huizenzoeker.nl/woningmarkt/zuid-holland/gouda/',\n",
       " 'https://www.huizenzoeker.nl/woningmarkt/zuid-holland/hardinxveld-giessendam/',\n",
       " 'https://www.huizenzoeker.nl/woningmarkt/zuid-holland/hellevoetsluis/',\n",
       " 'https://www.huizenzoeker.nl/woningmarkt/zuid-holland/hendrik-ido-ambacht/',\n",
       " 'https://www.huizenzoeker.nl/woningmarkt/zuid-holland/hillegom/',\n",
       " 'https://www.huizenzoeker.nl/woningmarkt/zuid-holland/hoeksche-waard/',\n",
       " 'https://www.huizenzoeker.nl/woningmarkt/zuid-holland/kaag-en-braassem/',\n",
       " 'https://www.huizenzoeker.nl/woningmarkt/zuid-holland/katwijk/',\n",
       " 'https://www.huizenzoeker.nl/woningmarkt/zuid-holland/krimpen-aan-den-ijssel/',\n",
       " 'https://www.huizenzoeker.nl/woningmarkt/zuid-holland/krimpenerwaard/',\n",
       " 'https://www.huizenzoeker.nl/woningmarkt/zuid-holland/lansingerland/',\n",
       " 'https://www.huizenzoeker.nl/woningmarkt/zuid-holland/leiden/',\n",
       " 'https://www.huizenzoeker.nl/woningmarkt/zuid-holland/leiderdorp/',\n",
       " 'https://www.huizenzoeker.nl/woningmarkt/zuid-holland/leidschendam-voorburg/',\n",
       " 'https://www.huizenzoeker.nl/woningmarkt/zuid-holland/lisse/',\n",
       " 'https://www.huizenzoeker.nl/woningmarkt/zuid-holland/maassluis/',\n",
       " 'https://www.huizenzoeker.nl/woningmarkt/zuid-holland/midden-delfland/',\n",
       " 'https://www.huizenzoeker.nl/woningmarkt/zuid-holland/molenlanden/',\n",
       " 'https://www.huizenzoeker.nl/woningmarkt/zuid-holland/nieuwkoop/',\n",
       " 'https://www.huizenzoeker.nl/woningmarkt/zuid-holland/nissewaard/',\n",
       " 'https://www.huizenzoeker.nl/woningmarkt/zuid-holland/noordwijk/',\n",
       " 'https://www.huizenzoeker.nl/woningmarkt/zuid-holland/oegstgeest/',\n",
       " 'https://www.huizenzoeker.nl/woningmarkt/zuid-holland/papendrecht/',\n",
       " 'https://www.huizenzoeker.nl/woningmarkt/zuid-holland/pijnacker-nootdorp/',\n",
       " 'https://www.huizenzoeker.nl/woningmarkt/zuid-holland/ridderkerk/',\n",
       " 'https://www.huizenzoeker.nl/woningmarkt/zuid-holland/rijswijk/',\n",
       " 'https://www.huizenzoeker.nl/woningmarkt/zuid-holland/rotterdam/',\n",
       " 'https://www.huizenzoeker.nl/woningmarkt/zuid-holland/schiedam/',\n",
       " 'https://www.huizenzoeker.nl/woningmarkt/zuid-holland/s-gravenhage/',\n",
       " 'https://www.huizenzoeker.nl/woningmarkt/zuid-holland/sliedrecht/',\n",
       " 'https://www.huizenzoeker.nl/woningmarkt/zuid-holland/teylingen/',\n",
       " 'https://www.huizenzoeker.nl/woningmarkt/zuid-holland/vlaardingen/',\n",
       " 'https://www.huizenzoeker.nl/woningmarkt/zuid-holland/voorschoten/',\n",
       " 'https://www.huizenzoeker.nl/woningmarkt/zuid-holland/waddinxveen/',\n",
       " 'https://www.huizenzoeker.nl/woningmarkt/zuid-holland/wassenaar/',\n",
       " 'https://www.huizenzoeker.nl/woningmarkt/zuid-holland/westland/',\n",
       " 'https://www.huizenzoeker.nl/woningmarkt/zuid-holland/westvoorne/',\n",
       " 'https://www.huizenzoeker.nl/woningmarkt/zuid-holland/zoetermeer/',\n",
       " 'https://www.huizenzoeker.nl/woningmarkt/zuid-holland/zoeterwoude/',\n",
       " 'https://www.huizenzoeker.nl/woningmarkt/zuid-holland/zuidplas/',\n",
       " 'https://www.huizenzoeker.nl/woningmarkt/zuid-holland/zwijndrecht/',\n",
       " 'https://www.huizenzoeker.nl/woningmarkt/zeeland/borsele/',\n",
       " 'https://www.huizenzoeker.nl/woningmarkt/zeeland/goes/',\n",
       " 'https://www.huizenzoeker.nl/woningmarkt/zeeland/hulst/',\n",
       " 'https://www.huizenzoeker.nl/woningmarkt/zeeland/kapelle/',\n",
       " 'https://www.huizenzoeker.nl/woningmarkt/zeeland/middelburg/',\n",
       " 'https://www.huizenzoeker.nl/woningmarkt/zeeland/noord-beveland/',\n",
       " 'https://www.huizenzoeker.nl/woningmarkt/zeeland/reimerswaal/',\n",
       " 'https://www.huizenzoeker.nl/woningmarkt/zeeland/schouwen-duiveland/',\n",
       " 'https://www.huizenzoeker.nl/woningmarkt/zeeland/sluis/',\n",
       " 'https://www.huizenzoeker.nl/woningmarkt/zeeland/terneuzen/',\n",
       " 'https://www.huizenzoeker.nl/woningmarkt/zeeland/tholen/',\n",
       " 'https://www.huizenzoeker.nl/woningmarkt/zeeland/veere/',\n",
       " 'https://www.huizenzoeker.nl/woningmarkt/zeeland/vlissingen/',\n",
       " 'https://www.huizenzoeker.nl/woningmarkt/noord-brabant/alphen-chaam/',\n",
       " 'https://www.huizenzoeker.nl/woningmarkt/noord-brabant/altena/',\n",
       " 'https://www.huizenzoeker.nl/woningmarkt/noord-brabant/asten/',\n",
       " 'https://www.huizenzoeker.nl/woningmarkt/noord-brabant/baarle-nassau/',\n",
       " 'https://www.huizenzoeker.nl/woningmarkt/noord-brabant/bergeijk/',\n",
       " 'https://www.huizenzoeker.nl/woningmarkt/noord-brabant/bergen-op-zoom/',\n",
       " 'https://www.huizenzoeker.nl/woningmarkt/noord-brabant/bernheze/',\n",
       " 'https://www.huizenzoeker.nl/woningmarkt/noord-brabant/best/',\n",
       " 'https://www.huizenzoeker.nl/woningmarkt/noord-brabant/bladel/',\n",
       " 'https://www.huizenzoeker.nl/woningmarkt/noord-brabant/boekel/',\n",
       " 'https://www.huizenzoeker.nl/woningmarkt/noord-brabant/boxmeer/',\n",
       " 'https://www.huizenzoeker.nl/woningmarkt/noord-brabant/boxtel/',\n",
       " 'https://www.huizenzoeker.nl/woningmarkt/noord-brabant/breda/',\n",
       " 'https://www.huizenzoeker.nl/woningmarkt/noord-brabant/cranendonck/',\n",
       " 'https://www.huizenzoeker.nl/woningmarkt/noord-brabant/cuijk/',\n",
       " 'https://www.huizenzoeker.nl/woningmarkt/noord-brabant/deurne/',\n",
       " 'https://www.huizenzoeker.nl/woningmarkt/noord-brabant/dongen/',\n",
       " 'https://www.huizenzoeker.nl/woningmarkt/noord-brabant/drimmelen/',\n",
       " 'https://www.huizenzoeker.nl/woningmarkt/noord-brabant/eersel/',\n",
       " 'https://www.huizenzoeker.nl/woningmarkt/noord-brabant/eindhoven/',\n",
       " 'https://www.huizenzoeker.nl/woningmarkt/noord-brabant/etten-leur/',\n",
       " 'https://www.huizenzoeker.nl/woningmarkt/noord-brabant/geertruidenberg/',\n",
       " 'https://www.huizenzoeker.nl/woningmarkt/noord-brabant/geldrop-mierlo/',\n",
       " 'https://www.huizenzoeker.nl/woningmarkt/noord-brabant/gemert-bakel/',\n",
       " 'https://www.huizenzoeker.nl/woningmarkt/noord-brabant/gilze-en-rijen/',\n",
       " 'https://www.huizenzoeker.nl/woningmarkt/noord-brabant/goirle/',\n",
       " 'https://www.huizenzoeker.nl/woningmarkt/noord-brabant/grave/',\n",
       " 'https://www.huizenzoeker.nl/woningmarkt/noord-brabant/halderberge/',\n",
       " 'https://www.huizenzoeker.nl/woningmarkt/noord-brabant/heeze-leende/',\n",
       " 'https://www.huizenzoeker.nl/woningmarkt/noord-brabant/helmond/',\n",
       " 'https://www.huizenzoeker.nl/woningmarkt/noord-brabant/heusden/',\n",
       " 'https://www.huizenzoeker.nl/woningmarkt/noord-brabant/hilvarenbeek/',\n",
       " 'https://www.huizenzoeker.nl/woningmarkt/noord-brabant/laarbeek/',\n",
       " 'https://www.huizenzoeker.nl/woningmarkt/noord-brabant/landerd/',\n",
       " 'https://www.huizenzoeker.nl/woningmarkt/noord-brabant/loon-op-zand/',\n",
       " 'https://www.huizenzoeker.nl/woningmarkt/noord-brabant/meierijstad/',\n",
       " 'https://www.huizenzoeker.nl/woningmarkt/noord-brabant/mill-en-sint-hubert/',\n",
       " 'https://www.huizenzoeker.nl/woningmarkt/noord-brabant/moerdijk/',\n",
       " 'https://www.huizenzoeker.nl/woningmarkt/noord-brabant/nuenen,-gerwen-en-nederwetten/',\n",
       " 'https://www.huizenzoeker.nl/woningmarkt/noord-brabant/oirschot/',\n",
       " 'https://www.huizenzoeker.nl/woningmarkt/noord-brabant/oisterwijk/',\n",
       " 'https://www.huizenzoeker.nl/woningmarkt/noord-brabant/oosterhout/',\n",
       " 'https://www.huizenzoeker.nl/woningmarkt/noord-brabant/oss/',\n",
       " 'https://www.huizenzoeker.nl/woningmarkt/noord-brabant/reusel-de-mierden/',\n",
       " 'https://www.huizenzoeker.nl/woningmarkt/noord-brabant/roosendaal/',\n",
       " 'https://www.huizenzoeker.nl/woningmarkt/noord-brabant/rucphen/',\n",
       " 'https://www.huizenzoeker.nl/woningmarkt/noord-brabant/s-hertogenbosch/',\n",
       " 'https://www.huizenzoeker.nl/woningmarkt/noord-brabant/sint-anthonis/',\n",
       " 'https://www.huizenzoeker.nl/woningmarkt/noord-brabant/sint-michielsgestel/',\n",
       " 'https://www.huizenzoeker.nl/woningmarkt/noord-brabant/someren/',\n",
       " 'https://www.huizenzoeker.nl/woningmarkt/noord-brabant/son-en-breugel/',\n",
       " 'https://www.huizenzoeker.nl/woningmarkt/noord-brabant/steenbergen/',\n",
       " 'https://www.huizenzoeker.nl/woningmarkt/noord-brabant/tilburg/',\n",
       " 'https://www.huizenzoeker.nl/woningmarkt/noord-brabant/uden/',\n",
       " 'https://www.huizenzoeker.nl/woningmarkt/noord-brabant/valkenswaard/',\n",
       " 'https://www.huizenzoeker.nl/woningmarkt/noord-brabant/veldhoven/',\n",
       " 'https://www.huizenzoeker.nl/woningmarkt/noord-brabant/vught/',\n",
       " 'https://www.huizenzoeker.nl/woningmarkt/noord-brabant/waalre/',\n",
       " 'https://www.huizenzoeker.nl/woningmarkt/noord-brabant/waalwijk/',\n",
       " 'https://www.huizenzoeker.nl/woningmarkt/noord-brabant/woensdrecht/',\n",
       " 'https://www.huizenzoeker.nl/woningmarkt/noord-brabant/zundert/',\n",
       " 'https://www.huizenzoeker.nl/woningmarkt/utrecht/amersfoort/',\n",
       " 'https://www.huizenzoeker.nl/woningmarkt/utrecht/baarn/',\n",
       " 'https://www.huizenzoeker.nl/woningmarkt/utrecht/bunnik/',\n",
       " 'https://www.huizenzoeker.nl/woningmarkt/utrecht/bunschoten/',\n",
       " 'https://www.huizenzoeker.nl/woningmarkt/utrecht/de-bilt/',\n",
       " 'https://www.huizenzoeker.nl/woningmarkt/utrecht/de-ronde-venen/',\n",
       " 'https://www.huizenzoeker.nl/woningmarkt/utrecht/eemnes/',\n",
       " 'https://www.huizenzoeker.nl/woningmarkt/utrecht/houten/',\n",
       " 'https://www.huizenzoeker.nl/woningmarkt/utrecht/ijsselstein/',\n",
       " 'https://www.huizenzoeker.nl/woningmarkt/utrecht/leusden/',\n",
       " 'https://www.huizenzoeker.nl/woningmarkt/utrecht/lopik/',\n",
       " 'https://www.huizenzoeker.nl/woningmarkt/utrecht/montfoort/',\n",
       " 'https://www.huizenzoeker.nl/woningmarkt/utrecht/nieuwegein/',\n",
       " 'https://www.huizenzoeker.nl/woningmarkt/utrecht/oudewater/',\n",
       " 'https://www.huizenzoeker.nl/woningmarkt/utrecht/renswoude/',\n",
       " 'https://www.huizenzoeker.nl/woningmarkt/utrecht/rhenen/',\n",
       " 'https://www.huizenzoeker.nl/woningmarkt/utrecht/soest/',\n",
       " 'https://www.huizenzoeker.nl/woningmarkt/utrecht/stichtse-vecht/',\n",
       " 'https://www.huizenzoeker.nl/woningmarkt/utrecht/utrecht/',\n",
       " 'https://www.huizenzoeker.nl/woningmarkt/utrecht/utrechtse-heuvelrug/',\n",
       " 'https://www.huizenzoeker.nl/woningmarkt/utrecht/veenendaal/',\n",
       " 'https://www.huizenzoeker.nl/woningmarkt/utrecht/vijfheerenlanden/',\n",
       " 'https://www.huizenzoeker.nl/woningmarkt/utrecht/wijk-bij-duurstede/',\n",
       " 'https://www.huizenzoeker.nl/woningmarkt/utrecht/woerden/',\n",
       " 'https://www.huizenzoeker.nl/woningmarkt/utrecht/woudenberg/',\n",
       " 'https://www.huizenzoeker.nl/woningmarkt/utrecht/zeist/',\n",
       " 'https://www.huizenzoeker.nl/woningmarkt/flevoland/almere/',\n",
       " 'https://www.huizenzoeker.nl/woningmarkt/flevoland/dronten/',\n",
       " 'https://www.huizenzoeker.nl/woningmarkt/flevoland/lelystad/',\n",
       " 'https://www.huizenzoeker.nl/woningmarkt/flevoland/noordoostpolder/',\n",
       " 'https://www.huizenzoeker.nl/woningmarkt/flevoland/urk/',\n",
       " 'https://www.huizenzoeker.nl/woningmarkt/flevoland/zeewolde/',\n",
       " 'https://www.huizenzoeker.nl/woningmarkt/friesland/achtkarspelen/',\n",
       " 'https://www.huizenzoeker.nl/woningmarkt/friesland/ameland/',\n",
       " 'https://www.huizenzoeker.nl/woningmarkt/friesland/dantumadiel/',\n",
       " 'https://www.huizenzoeker.nl/woningmarkt/friesland/de-fryske-marren/',\n",
       " 'https://www.huizenzoeker.nl/woningmarkt/friesland/harlingen/',\n",
       " 'https://www.huizenzoeker.nl/woningmarkt/friesland/heerenveen/',\n",
       " 'https://www.huizenzoeker.nl/woningmarkt/friesland/leeuwarden/',\n",
       " 'https://www.huizenzoeker.nl/woningmarkt/friesland/noardeast-fryslan/',\n",
       " 'https://www.huizenzoeker.nl/woningmarkt/friesland/ooststellingwerf/',\n",
       " 'https://www.huizenzoeker.nl/woningmarkt/friesland/opsterland/',\n",
       " 'https://www.huizenzoeker.nl/woningmarkt/friesland/schiermonnikoog/',\n",
       " 'https://www.huizenzoeker.nl/woningmarkt/friesland/smallingerland/',\n",
       " 'https://www.huizenzoeker.nl/woningmarkt/friesland/sudwest-fryslan/',\n",
       " 'https://www.huizenzoeker.nl/woningmarkt/friesland/terschelling/',\n",
       " 'https://www.huizenzoeker.nl/woningmarkt/friesland/tytsjerksteradiel/',\n",
       " 'https://www.huizenzoeker.nl/woningmarkt/friesland/vlieland/',\n",
       " 'https://www.huizenzoeker.nl/woningmarkt/friesland/waadhoeke/',\n",
       " 'https://www.huizenzoeker.nl/woningmarkt/friesland/weststellingwerf/',\n",
       " 'https://www.huizenzoeker.nl/woningmarkt/groningen/eemsdelta/',\n",
       " 'https://www.huizenzoeker.nl/woningmarkt/groningen/groningen/',\n",
       " 'https://www.huizenzoeker.nl/woningmarkt/groningen/het-hogeland/',\n",
       " 'https://www.huizenzoeker.nl/woningmarkt/groningen/midden-groningen/',\n",
       " 'https://www.huizenzoeker.nl/woningmarkt/groningen/oldambt/',\n",
       " 'https://www.huizenzoeker.nl/woningmarkt/groningen/pekela/',\n",
       " 'https://www.huizenzoeker.nl/woningmarkt/groningen/stadskanaal/',\n",
       " 'https://www.huizenzoeker.nl/woningmarkt/groningen/veendam/',\n",
       " 'https://www.huizenzoeker.nl/woningmarkt/groningen/westerkwartier/',\n",
       " 'https://www.huizenzoeker.nl/woningmarkt/groningen/westerwolde/',\n",
       " 'https://www.huizenzoeker.nl/woningmarkt/drenthe/aa-en-hunze/',\n",
       " 'https://www.huizenzoeker.nl/woningmarkt/drenthe/assen/',\n",
       " 'https://www.huizenzoeker.nl/woningmarkt/drenthe/borger-odoorn/',\n",
       " 'https://www.huizenzoeker.nl/woningmarkt/drenthe/coevorden/',\n",
       " 'https://www.huizenzoeker.nl/woningmarkt/drenthe/de-wolden/',\n",
       " 'https://www.huizenzoeker.nl/woningmarkt/drenthe/emmen/',\n",
       " 'https://www.huizenzoeker.nl/woningmarkt/drenthe/hoogeveen/',\n",
       " 'https://www.huizenzoeker.nl/woningmarkt/drenthe/meppel/',\n",
       " 'https://www.huizenzoeker.nl/woningmarkt/drenthe/midden-drenthe/',\n",
       " 'https://www.huizenzoeker.nl/woningmarkt/drenthe/noordenveld/',\n",
       " 'https://www.huizenzoeker.nl/woningmarkt/drenthe/tynaarlo/',\n",
       " 'https://www.huizenzoeker.nl/woningmarkt/drenthe/westerveld/',\n",
       " 'https://www.huizenzoeker.nl/woningmarkt/overijssel/almelo/',\n",
       " 'https://www.huizenzoeker.nl/woningmarkt/overijssel/borne/',\n",
       " 'https://www.huizenzoeker.nl/woningmarkt/overijssel/dalfsen/',\n",
       " 'https://www.huizenzoeker.nl/woningmarkt/overijssel/deventer/',\n",
       " 'https://www.huizenzoeker.nl/woningmarkt/overijssel/dinkelland/',\n",
       " 'https://www.huizenzoeker.nl/woningmarkt/overijssel/enschede/',\n",
       " 'https://www.huizenzoeker.nl/woningmarkt/overijssel/haaksbergen/',\n",
       " 'https://www.huizenzoeker.nl/woningmarkt/overijssel/hardenberg/',\n",
       " 'https://www.huizenzoeker.nl/woningmarkt/overijssel/hellendoorn/',\n",
       " 'https://www.huizenzoeker.nl/woningmarkt/overijssel/hengelo-o/',\n",
       " 'https://www.huizenzoeker.nl/woningmarkt/overijssel/hof-van-twente/',\n",
       " 'https://www.huizenzoeker.nl/woningmarkt/overijssel/kampen/',\n",
       " 'https://www.huizenzoeker.nl/woningmarkt/overijssel/losser/',\n",
       " 'https://www.huizenzoeker.nl/woningmarkt/overijssel/oldenzaal/',\n",
       " 'https://www.huizenzoeker.nl/woningmarkt/overijssel/olst-wijhe/',\n",
       " 'https://www.huizenzoeker.nl/woningmarkt/overijssel/ommen/',\n",
       " 'https://www.huizenzoeker.nl/woningmarkt/overijssel/raalte/',\n",
       " 'https://www.huizenzoeker.nl/woningmarkt/overijssel/rijssen-holten/',\n",
       " 'https://www.huizenzoeker.nl/woningmarkt/overijssel/staphorst/',\n",
       " 'https://www.huizenzoeker.nl/woningmarkt/overijssel/steenwijkerland/',\n",
       " 'https://www.huizenzoeker.nl/woningmarkt/overijssel/tubbergen/',\n",
       " 'https://www.huizenzoeker.nl/woningmarkt/overijssel/twenterand/',\n",
       " 'https://www.huizenzoeker.nl/woningmarkt/overijssel/wierden/',\n",
       " 'https://www.huizenzoeker.nl/woningmarkt/overijssel/zwartewaterland/',\n",
       " 'https://www.huizenzoeker.nl/woningmarkt/overijssel/zwolle/',\n",
       " 'https://www.huizenzoeker.nl/woningmarkt/gelderland/aalten/',\n",
       " 'https://www.huizenzoeker.nl/woningmarkt/gelderland/apeldoorn/',\n",
       " 'https://www.huizenzoeker.nl/woningmarkt/gelderland/arnhem/',\n",
       " 'https://www.huizenzoeker.nl/woningmarkt/gelderland/barneveld/',\n",
       " 'https://www.huizenzoeker.nl/woningmarkt/gelderland/berg-en-dal/',\n",
       " 'https://www.huizenzoeker.nl/woningmarkt/gelderland/berkelland/',\n",
       " 'https://www.huizenzoeker.nl/woningmarkt/gelderland/beuningen/',\n",
       " 'https://www.huizenzoeker.nl/woningmarkt/gelderland/bronckhorst/',\n",
       " 'https://www.huizenzoeker.nl/woningmarkt/gelderland/brummen/',\n",
       " 'https://www.huizenzoeker.nl/woningmarkt/gelderland/buren/',\n",
       " 'https://www.huizenzoeker.nl/woningmarkt/gelderland/culemborg/',\n",
       " 'https://www.huizenzoeker.nl/woningmarkt/gelderland/doesburg/',\n",
       " 'https://www.huizenzoeker.nl/woningmarkt/gelderland/doetinchem/',\n",
       " 'https://www.huizenzoeker.nl/woningmarkt/gelderland/druten/',\n",
       " 'https://www.huizenzoeker.nl/woningmarkt/gelderland/duiven/',\n",
       " 'https://www.huizenzoeker.nl/woningmarkt/gelderland/ede/',\n",
       " 'https://www.huizenzoeker.nl/woningmarkt/gelderland/elburg/',\n",
       " 'https://www.huizenzoeker.nl/woningmarkt/gelderland/epe/',\n",
       " 'https://www.huizenzoeker.nl/woningmarkt/gelderland/ermelo/',\n",
       " 'https://www.huizenzoeker.nl/woningmarkt/gelderland/harderwijk/',\n",
       " 'https://www.huizenzoeker.nl/woningmarkt/gelderland/hattem/',\n",
       " 'https://www.huizenzoeker.nl/woningmarkt/gelderland/heerde/',\n",
       " 'https://www.huizenzoeker.nl/woningmarkt/gelderland/heumen/',\n",
       " 'https://www.huizenzoeker.nl/woningmarkt/gelderland/lingewaard/',\n",
       " 'https://www.huizenzoeker.nl/woningmarkt/gelderland/lochem/',\n",
       " 'https://www.huizenzoeker.nl/woningmarkt/gelderland/maasdriel/',\n",
       " 'https://www.huizenzoeker.nl/woningmarkt/gelderland/montferland/',\n",
       " 'https://www.huizenzoeker.nl/woningmarkt/gelderland/neder-betuwe/',\n",
       " 'https://www.huizenzoeker.nl/woningmarkt/gelderland/nijkerk/',\n",
       " 'https://www.huizenzoeker.nl/woningmarkt/gelderland/nijmegen/',\n",
       " 'https://www.huizenzoeker.nl/woningmarkt/gelderland/nunspeet/',\n",
       " 'https://www.huizenzoeker.nl/woningmarkt/gelderland/oldebroek/',\n",
       " 'https://www.huizenzoeker.nl/woningmarkt/gelderland/oost-gelre/',\n",
       " 'https://www.huizenzoeker.nl/woningmarkt/gelderland/oude-ijsselstreek/',\n",
       " 'https://www.huizenzoeker.nl/woningmarkt/gelderland/overbetuwe/',\n",
       " 'https://www.huizenzoeker.nl/woningmarkt/gelderland/putten/',\n",
       " 'https://www.huizenzoeker.nl/woningmarkt/gelderland/renkum/',\n",
       " 'https://www.huizenzoeker.nl/woningmarkt/gelderland/rheden/',\n",
       " 'https://www.huizenzoeker.nl/woningmarkt/gelderland/rozendaal/',\n",
       " 'https://www.huizenzoeker.nl/woningmarkt/gelderland/scherpenzeel/',\n",
       " 'https://www.huizenzoeker.nl/woningmarkt/gelderland/tiel/',\n",
       " 'https://www.huizenzoeker.nl/woningmarkt/gelderland/voorst/',\n",
       " 'https://www.huizenzoeker.nl/woningmarkt/gelderland/wageningen/',\n",
       " 'https://www.huizenzoeker.nl/woningmarkt/gelderland/west-betuwe/',\n",
       " 'https://www.huizenzoeker.nl/woningmarkt/gelderland/westervoort/',\n",
       " 'https://www.huizenzoeker.nl/woningmarkt/gelderland/west-maas-en-waal/',\n",
       " 'https://www.huizenzoeker.nl/woningmarkt/gelderland/wijchen/',\n",
       " 'https://www.huizenzoeker.nl/woningmarkt/gelderland/winterswijk/',\n",
       " 'https://www.huizenzoeker.nl/woningmarkt/gelderland/zaltbommel/',\n",
       " 'https://www.huizenzoeker.nl/woningmarkt/gelderland/zevenaar/',\n",
       " 'https://www.huizenzoeker.nl/woningmarkt/gelderland/zutphen/',\n",
       " 'https://www.huizenzoeker.nl/woningmarkt/limburg/beek/',\n",
       " 'https://www.huizenzoeker.nl/woningmarkt/limburg/beekdaelen/',\n",
       " 'https://www.huizenzoeker.nl/woningmarkt/limburg/beesel/',\n",
       " 'https://www.huizenzoeker.nl/woningmarkt/limburg/bergen-l/',\n",
       " 'https://www.huizenzoeker.nl/woningmarkt/limburg/brunssum/',\n",
       " 'https://www.huizenzoeker.nl/woningmarkt/limburg/echt-susteren/',\n",
       " 'https://www.huizenzoeker.nl/woningmarkt/limburg/eijsden-margraten/',\n",
       " 'https://www.huizenzoeker.nl/woningmarkt/limburg/gennep/',\n",
       " 'https://www.huizenzoeker.nl/woningmarkt/limburg/gulpen-wittem/',\n",
       " 'https://www.huizenzoeker.nl/woningmarkt/limburg/heerlen/',\n",
       " 'https://www.huizenzoeker.nl/woningmarkt/limburg/horst-aan-de-maas/',\n",
       " 'https://www.huizenzoeker.nl/woningmarkt/limburg/kerkrade/',\n",
       " 'https://www.huizenzoeker.nl/woningmarkt/limburg/landgraaf/',\n",
       " 'https://www.huizenzoeker.nl/woningmarkt/limburg/leudal/',\n",
       " 'https://www.huizenzoeker.nl/woningmarkt/limburg/maasgouw/',\n",
       " 'https://www.huizenzoeker.nl/woningmarkt/limburg/maastricht/',\n",
       " 'https://www.huizenzoeker.nl/woningmarkt/limburg/meerssen/',\n",
       " 'https://www.huizenzoeker.nl/woningmarkt/limburg/mook-en-middelaar/',\n",
       " 'https://www.huizenzoeker.nl/woningmarkt/limburg/nederweert/',\n",
       " 'https://www.huizenzoeker.nl/woningmarkt/limburg/peel-en-maas/',\n",
       " 'https://www.huizenzoeker.nl/woningmarkt/limburg/roerdalen/',\n",
       " 'https://www.huizenzoeker.nl/woningmarkt/limburg/roermond/',\n",
       " 'https://www.huizenzoeker.nl/woningmarkt/limburg/simpelveld/',\n",
       " 'https://www.huizenzoeker.nl/woningmarkt/limburg/sittard-geleen/',\n",
       " 'https://www.huizenzoeker.nl/woningmarkt/limburg/stein/',\n",
       " 'https://www.huizenzoeker.nl/woningmarkt/limburg/vaals/',\n",
       " 'https://www.huizenzoeker.nl/woningmarkt/limburg/valkenburg-aan-de-geul/',\n",
       " 'https://www.huizenzoeker.nl/woningmarkt/limburg/venlo/',\n",
       " 'https://www.huizenzoeker.nl/woningmarkt/limburg/venray/',\n",
       " 'https://www.huizenzoeker.nl/woningmarkt/limburg/voerendaal/',\n",
       " 'https://www.huizenzoeker.nl/woningmarkt/limburg/weert/']"
      ]
     },
     "execution_count": 12,
     "metadata": {},
     "output_type": "execute_result"
    }
   ],
   "source": [
    "page_urls_full"
   ]
  },
  {
   "cell_type": "code",
   "execution_count": 13,
   "id": "4051fe49",
   "metadata": {},
   "outputs": [
    {
     "data": {
      "text/plain": [
       "['https://www.huizenzoeker.nl/woningmarkt/noord-holland/aalsmeer/',\n",
       " 'https://www.huizenzoeker.nl/woningmarkt/noord-holland/alkmaar/',\n",
       " 'https://www.huizenzoeker.nl/woningmarkt/noord-holland/amstelveen/',\n",
       " 'https://www.huizenzoeker.nl/woningmarkt/noord-holland/amsterdam/',\n",
       " 'https://www.huizenzoeker.nl/woningmarkt/noord-holland/beemster/']"
      ]
     },
     "execution_count": 13,
     "metadata": {},
     "output_type": "execute_result"
    }
   ],
   "source": [
    "subset = page_urls_full[0:5] # defined subset to try out on few urls first\n",
    "subset"
   ]
  },
  {
   "cell_type": "markdown",
   "id": "00a445f9",
   "metadata": {},
   "source": [
    "## Step 3a: Gather all data for all municipalities: Trend data"
   ]
  },
  {
   "cell_type": "markdown",
   "id": "abef96a2",
   "metadata": {},
   "source": [
    "For each municipality we now extract the gem. vraagprijs, verkochte woningen, gem.vierkantemeter prijs, % overboden (and how these numbers how changed t.o.v. vorige maand)."
   ]
  },
  {
   "cell_type": "markdown",
   "id": "4207d0db",
   "metadata": {},
   "source": [
    "## Gemiddelde vraagprijs (Quadrant 1 Trend data)"
   ]
  },
  {
   "cell_type": "markdown",
   "id": "39999d22",
   "metadata": {},
   "source": [
    "Extract the gemiddelde vraagprijs, and its % change t.o.v. vorige maand. "
   ]
  },
  {
   "cell_type": "code",
   "execution_count": 14,
   "id": "8ac33cc7",
   "metadata": {},
   "outputs": [],
   "source": [
    "#combination of beautiful.soup and selenium DOESN'T WORK!\n",
    "def extract_city_trends(subset):\n",
    "    trend_list = []\n",
    "    for page_url in subset:\n",
    "        driver.get(page_url) #FEEDBACK update\n",
    "        time.sleep(5) #FEEDBACK update\n",
    "        soup = BeautifulSoup(res.text, 'html.parser')\n",
    "        city_name = soup.find_all('h2')[0].get_text()\n",
    "        city_name1 = city_name.replace('Woningmarkt','')\n",
    "        trends = soup.find_all(class_='trend-graph')[0].get_text()\n",
    "        new_trend = trends.replace('\\n','')\n",
    "        new_trend1 = new_trend.replace('Gem. Vraagprijs','')\n",
    "        price,change = new_trend1.split('                ',1)\n",
    "        change1 = change.replace(' t.o.v. vorige maand            ', '')\n",
    "        trend_list.append({'City':city_name1, 'Gem. vraagprijs':price, '%Δ Vraagprijs (t.o.v vorige maand)':change1})\n",
    "    return(trend_list)"
   ]
  },
  {
   "cell_type": "code",
   "execution_count": 15,
   "id": "0d49d429",
   "metadata": {},
   "outputs": [
    {
     "ename": "IndexError",
     "evalue": "list index out of range",
     "output_type": "error",
     "traceback": [
      "\u001b[0;31m---------------------------------------------------------------------------\u001b[0m",
      "\u001b[0;31mIndexError\u001b[0m                                Traceback (most recent call last)",
      "\u001b[0;32m<ipython-input-15-2ba7f213b143>\u001b[0m in \u001b[0;36m<module>\u001b[0;34m\u001b[0m\n\u001b[0;32m----> 1\u001b[0;31m \u001b[0mgem_vraagprijs\u001b[0m \u001b[0;34m=\u001b[0m \u001b[0mextract_city_trends\u001b[0m\u001b[0;34m(\u001b[0m\u001b[0msubset\u001b[0m\u001b[0;34m)\u001b[0m\u001b[0;34m\u001b[0m\u001b[0;34m\u001b[0m\u001b[0m\n\u001b[0m",
      "\u001b[0;32m<ipython-input-14-0207428d9a3a>\u001b[0m in \u001b[0;36mextract_city_trends\u001b[0;34m(subset)\u001b[0m\n\u001b[1;32m      8\u001b[0m         \u001b[0mcity_name\u001b[0m \u001b[0;34m=\u001b[0m \u001b[0msoup\u001b[0m\u001b[0;34m.\u001b[0m\u001b[0mfind_all\u001b[0m\u001b[0;34m(\u001b[0m\u001b[0;34m'h2'\u001b[0m\u001b[0;34m)\u001b[0m\u001b[0;34m[\u001b[0m\u001b[0;36m0\u001b[0m\u001b[0;34m]\u001b[0m\u001b[0;34m.\u001b[0m\u001b[0mget_text\u001b[0m\u001b[0;34m(\u001b[0m\u001b[0;34m)\u001b[0m\u001b[0;34m\u001b[0m\u001b[0;34m\u001b[0m\u001b[0m\n\u001b[1;32m      9\u001b[0m         \u001b[0mcity_name1\u001b[0m \u001b[0;34m=\u001b[0m \u001b[0mcity_name\u001b[0m\u001b[0;34m.\u001b[0m\u001b[0mreplace\u001b[0m\u001b[0;34m(\u001b[0m\u001b[0;34m'Woningmarkt'\u001b[0m\u001b[0;34m,\u001b[0m\u001b[0;34m''\u001b[0m\u001b[0;34m)\u001b[0m\u001b[0;34m\u001b[0m\u001b[0;34m\u001b[0m\u001b[0m\n\u001b[0;32m---> 10\u001b[0;31m         \u001b[0mtrends\u001b[0m \u001b[0;34m=\u001b[0m \u001b[0msoup\u001b[0m\u001b[0;34m.\u001b[0m\u001b[0mfind_all\u001b[0m\u001b[0;34m(\u001b[0m\u001b[0mclass_\u001b[0m\u001b[0;34m=\u001b[0m\u001b[0;34m'trend-graph'\u001b[0m\u001b[0;34m)\u001b[0m\u001b[0;34m[\u001b[0m\u001b[0;36m0\u001b[0m\u001b[0;34m]\u001b[0m\u001b[0;34m.\u001b[0m\u001b[0mget_text\u001b[0m\u001b[0;34m(\u001b[0m\u001b[0;34m)\u001b[0m\u001b[0;34m\u001b[0m\u001b[0;34m\u001b[0m\u001b[0m\n\u001b[0m\u001b[1;32m     11\u001b[0m         \u001b[0mnew_trend\u001b[0m \u001b[0;34m=\u001b[0m \u001b[0mtrends\u001b[0m\u001b[0;34m.\u001b[0m\u001b[0mreplace\u001b[0m\u001b[0;34m(\u001b[0m\u001b[0;34m'\\n'\u001b[0m\u001b[0;34m,\u001b[0m\u001b[0;34m''\u001b[0m\u001b[0;34m)\u001b[0m\u001b[0;34m\u001b[0m\u001b[0;34m\u001b[0m\u001b[0m\n\u001b[1;32m     12\u001b[0m         \u001b[0mnew_trend1\u001b[0m \u001b[0;34m=\u001b[0m \u001b[0mnew_trend\u001b[0m\u001b[0;34m.\u001b[0m\u001b[0mreplace\u001b[0m\u001b[0;34m(\u001b[0m\u001b[0;34m'Gem. Vraagprijs'\u001b[0m\u001b[0;34m,\u001b[0m\u001b[0;34m''\u001b[0m\u001b[0;34m)\u001b[0m\u001b[0;34m\u001b[0m\u001b[0;34m\u001b[0m\u001b[0m\n",
      "\u001b[0;31mIndexError\u001b[0m: list index out of range"
     ]
    }
   ],
   "source": [
    "gem_vraagprijs = extract_city_trends(subset)"
   ]
  },
  {
   "cell_type": "markdown",
   "id": "a9783e0f",
   "metadata": {},
   "source": [
    "### Try out using selenium only"
   ]
  },
  {
   "cell_type": "code",
   "execution_count": 16,
   "id": "334d4a77",
   "metadata": {},
   "outputs": [],
   "source": [
    "# didnt work yet"
   ]
  },
  {
   "cell_type": "markdown",
   "id": "9c1f0fc7",
   "metadata": {},
   "source": [
    "We generate a Pandas dataframe of the data we just collected for all municipalities."
   ]
  },
  {
   "cell_type": "code",
   "execution_count": 17,
   "id": "9b5b6510",
   "metadata": {},
   "outputs": [
    {
     "ename": "NameError",
     "evalue": "name 'gem_vraagprijs' is not defined",
     "output_type": "error",
     "traceback": [
      "\u001b[0;31m---------------------------------------------------------------------------\u001b[0m",
      "\u001b[0;31mNameError\u001b[0m                                 Traceback (most recent call last)",
      "\u001b[0;32m<ipython-input-17-ad2bb447af4e>\u001b[0m in \u001b[0;36m<module>\u001b[0;34m\u001b[0m\n\u001b[0;32m----> 1\u001b[0;31m \u001b[0mpd\u001b[0m\u001b[0;34m.\u001b[0m\u001b[0mDataFrame\u001b[0m\u001b[0;34m(\u001b[0m\u001b[0mgem_vraagprijs\u001b[0m\u001b[0;34m)\u001b[0m\u001b[0;34m\u001b[0m\u001b[0;34m\u001b[0m\u001b[0m\n\u001b[0m",
      "\u001b[0;31mNameError\u001b[0m: name 'gem_vraagprijs' is not defined"
     ]
    }
   ],
   "source": [
    "pd.DataFrame(gem_vraagprijs)"
   ]
  },
  {
   "cell_type": "markdown",
   "id": "a7993565",
   "metadata": {},
   "source": [
    "### # Verkochte woningen (Quadrant 2 Trend data)"
   ]
  },
  {
   "cell_type": "markdown",
   "id": "3d8e3592",
   "metadata": {},
   "source": [
    "Extract the # of verkochte woningen, and its % change t.o.v. vorige maand."
   ]
  },
  {
   "cell_type": "code",
   "execution_count": 128,
   "id": "73bf3315",
   "metadata": {},
   "outputs": [],
   "source": [
    "def extract_city_trends1(page_urls): #STATUS: change the input still to the correct list name for all municipalities of all provinces!! \n",
    "    trend_list1 = []\n",
    "    for page_url in page_urls:\n",
    "        driver.get(page_url) #FEEDBACK update\n",
    "        time.sleep(5) #FEEDBACK update\n",
    "        soup = BeautifulSoup(res.text, 'html.parser')\n",
    "        city_name = soup.find_all('h2')[0].get_text()\n",
    "        city_name1 = city_name.replace('Woningmarkt','')\n",
    "        trends = soup.find_all(class_='trend-graph')[1].get_text()\n",
    "        new_trend = trends.replace('\\n','')\n",
    "        new_trend1 = new_trend.replace('Verkochte woningen','')\n",
    "        verkocht,change = new_trend1.split('                ',1)\n",
    "        change1 = change.replace(' t.o.v. vorige maand            ', '')\n",
    "        trend_list1.append({'City':city_name1, 'Verkochte woningen':verkocht, '%Δ Verkocht (t.o.v vorige maand)':change1})\n",
    "    return(trend_list1)"
   ]
  },
  {
   "cell_type": "code",
   "execution_count": 129,
   "id": "312cebed",
   "metadata": {},
   "outputs": [],
   "source": [
    "verk_woningen = extract_city_trends1(page_urls) #use the function \n",
    "print(verk_woningen) #check if it works"
   ]
  },
  {
   "cell_type": "markdown",
   "id": "00441606",
   "metadata": {},
   "source": [
    "We generate a Pandas dataframe of the data we just collected for all municipalities."
   ]
  },
  {
   "cell_type": "code",
   "execution_count": 130,
   "id": "638899f8",
   "metadata": {},
   "outputs": [
    {
     "data": {
      "text/html": [
       "<div>\n",
       "<style scoped>\n",
       "    .dataframe tbody tr th:only-of-type {\n",
       "        vertical-align: middle;\n",
       "    }\n",
       "\n",
       "    .dataframe tbody tr th {\n",
       "        vertical-align: top;\n",
       "    }\n",
       "\n",
       "    .dataframe thead th {\n",
       "        text-align: right;\n",
       "    }\n",
       "</style>\n",
       "<table border=\"1\" class=\"dataframe\">\n",
       "  <thead>\n",
       "    <tr style=\"text-align: right;\">\n",
       "      <th></th>\n",
       "      <th>City</th>\n",
       "      <th>Verkochte woningen</th>\n",
       "      <th>%Δ Verkocht (t.o.v vorige maand)</th>\n",
       "    </tr>\n",
       "  </thead>\n",
       "  <tbody>\n",
       "    <tr>\n",
       "      <th>0</th>\n",
       "      <td>Alphen-Chaam</td>\n",
       "      <td>2</td>\n",
       "      <td>-75.00%</td>\n",
       "    </tr>\n",
       "    <tr>\n",
       "      <th>1</th>\n",
       "      <td>Altena</td>\n",
       "      <td>20</td>\n",
       "      <td>-54.55%</td>\n",
       "    </tr>\n",
       "    <tr>\n",
       "      <th>2</th>\n",
       "      <td>Asten</td>\n",
       "      <td>7</td>\n",
       "      <td>-46.15%</td>\n",
       "    </tr>\n",
       "    <tr>\n",
       "      <th>3</th>\n",
       "      <td>Baarle-Nassau</td>\n",
       "      <td>2</td>\n",
       "      <td>-71.43%</td>\n",
       "    </tr>\n",
       "    <tr>\n",
       "      <th>4</th>\n",
       "      <td>Bergeijk</td>\n",
       "      <td>9</td>\n",
       "      <td>-55.00%</td>\n",
       "    </tr>\n",
       "    <tr>\n",
       "      <th>...</th>\n",
       "      <td>...</td>\n",
       "      <td>...</td>\n",
       "      <td>...</td>\n",
       "    </tr>\n",
       "    <tr>\n",
       "      <th>56</th>\n",
       "      <td>Vught</td>\n",
       "      <td>16</td>\n",
       "      <td>-42.86%</td>\n",
       "    </tr>\n",
       "    <tr>\n",
       "      <th>57</th>\n",
       "      <td>Waalre</td>\n",
       "      <td>4</td>\n",
       "      <td>-55.56%</td>\n",
       "    </tr>\n",
       "    <tr>\n",
       "      <th>58</th>\n",
       "      <td>Waalwijk</td>\n",
       "      <td>15</td>\n",
       "      <td>-65.91%</td>\n",
       "    </tr>\n",
       "    <tr>\n",
       "      <th>59</th>\n",
       "      <td>Woensdrecht</td>\n",
       "      <td>10</td>\n",
       "      <td>-47.37%</td>\n",
       "    </tr>\n",
       "    <tr>\n",
       "      <th>60</th>\n",
       "      <td>Zundert</td>\n",
       "      <td>9</td>\n",
       "      <td>-57.14%</td>\n",
       "    </tr>\n",
       "  </tbody>\n",
       "</table>\n",
       "<p>61 rows × 3 columns</p>\n",
       "</div>"
      ],
      "text/plain": [
       "              City Verkochte woningen %Δ Verkocht (t.o.v vorige maand)\n",
       "0     Alphen-Chaam                  2                          -75.00%\n",
       "1           Altena                 20                          -54.55%\n",
       "2            Asten                  7                          -46.15%\n",
       "3    Baarle-Nassau                  2                          -71.43%\n",
       "4         Bergeijk                  9                          -55.00%\n",
       "..             ...                ...                              ...\n",
       "56           Vught                 16                          -42.86%\n",
       "57          Waalre                  4                          -55.56%\n",
       "58        Waalwijk                 15                          -65.91%\n",
       "59     Woensdrecht                 10                          -47.37%\n",
       "60         Zundert                  9                          -57.14%\n",
       "\n",
       "[61 rows x 3 columns]"
      ]
     },
     "execution_count": 130,
     "metadata": {},
     "output_type": "execute_result"
    }
   ],
   "source": [
    "pd.DataFrame(verk_woningen)"
   ]
  },
  {
   "cell_type": "markdown",
   "id": "e96af413",
   "metadata": {},
   "source": [
    "### Gemiddelde vierkantemeter prijs (Quadrant 3 Trend data)"
   ]
  },
  {
   "cell_type": "markdown",
   "id": "4451a495",
   "metadata": {},
   "source": [
    "Extract the gemiddelde vierkante meter prijs, and its % change t.o.v. vorige maand."
   ]
  },
  {
   "cell_type": "code",
   "execution_count": 135,
   "id": "e20d60c9",
   "metadata": {},
   "outputs": [],
   "source": [
    "def extract_city_trends2(page_urls):#STATUS: change the input still to the correct list name for all municipalities of all provinces!! \n",
    "    trend_list2 = []\n",
    "    for page_url in page_urls:\n",
    "        driver.get(page_url) #FEEDBACK UPDATE\n",
    "        time.sleep(5) #FEEDBACK UPDATE\n",
    "        soup = BeautifulSoup(res.text, 'html.parser')\n",
    "        city_name = soup.find_all('h2')[0].get_text()\n",
    "        city_name1 = city_name.replace('Woningmarkt','')\n",
    "        trends = soup.find_all(class_='trend-graph')[2].get_text()\n",
    "        new_trend = trends.replace('\\n','')\n",
    "        new_trend1 = new_trend.replace('Gem. vierkantemeter prijs','')\n",
    "        m2prijs,change = new_trend1.split('                ',1)\n",
    "        change1 = change.replace(' t.o.v. vorige maand            ', '')\n",
    "        trend_list2.append({'City':city_name1, 'Gem. m2 prijs':m2prijs, '%Δ M2 prijs (t.o.v vorige maand)':change1})\n",
    "    return(trend_list2)"
   ]
  },
  {
   "cell_type": "code",
   "execution_count": 136,
   "id": "9560974e",
   "metadata": {},
   "outputs": [],
   "source": [
    "m2_prijs = extract_city_trends2(page_urls)"
   ]
  },
  {
   "cell_type": "markdown",
   "id": "015e5afa",
   "metadata": {},
   "source": [
    "We generate a Pandas dataframe of the data we just collected for all municipalities."
   ]
  },
  {
   "cell_type": "code",
   "execution_count": 137,
   "id": "ecb1ad2f",
   "metadata": {},
   "outputs": [
    {
     "data": {
      "text/html": [
       "<div>\n",
       "<style scoped>\n",
       "    .dataframe tbody tr th:only-of-type {\n",
       "        vertical-align: middle;\n",
       "    }\n",
       "\n",
       "    .dataframe tbody tr th {\n",
       "        vertical-align: top;\n",
       "    }\n",
       "\n",
       "    .dataframe thead th {\n",
       "        text-align: right;\n",
       "    }\n",
       "</style>\n",
       "<table border=\"1\" class=\"dataframe\">\n",
       "  <thead>\n",
       "    <tr style=\"text-align: right;\">\n",
       "      <th></th>\n",
       "      <th>City</th>\n",
       "      <th>Gem. m2 prijs</th>\n",
       "      <th>%Δ M2 prijs (t.o.v vorige maand)</th>\n",
       "    </tr>\n",
       "  </thead>\n",
       "  <tbody>\n",
       "    <tr>\n",
       "      <th>0</th>\n",
       "      <td>Alphen-Chaam</td>\n",
       "      <td>€ 2.430</td>\n",
       "      <td>-23.27%</td>\n",
       "    </tr>\n",
       "    <tr>\n",
       "      <th>1</th>\n",
       "      <td>Altena</td>\n",
       "      <td>€ 2.928</td>\n",
       "      <td>2.59%</td>\n",
       "    </tr>\n",
       "    <tr>\n",
       "      <th>2</th>\n",
       "      <td>Asten</td>\n",
       "      <td>€ 2.809</td>\n",
       "      <td>4.08%</td>\n",
       "    </tr>\n",
       "    <tr>\n",
       "      <th>3</th>\n",
       "      <td>Baarle-Nassau</td>\n",
       "      <td>€ 3.733</td>\n",
       "      <td>48.08%</td>\n",
       "    </tr>\n",
       "    <tr>\n",
       "      <th>4</th>\n",
       "      <td>Bergeijk</td>\n",
       "      <td>€ 3.427</td>\n",
       "      <td>3.82%</td>\n",
       "    </tr>\n",
       "    <tr>\n",
       "      <th>...</th>\n",
       "      <td>...</td>\n",
       "      <td>...</td>\n",
       "      <td>...</td>\n",
       "    </tr>\n",
       "    <tr>\n",
       "      <th>56</th>\n",
       "      <td>Vught</td>\n",
       "      <td>€ 3.835</td>\n",
       "      <td>1.64%</td>\n",
       "    </tr>\n",
       "    <tr>\n",
       "      <th>57</th>\n",
       "      <td>Waalre</td>\n",
       "      <td>€ 3.734</td>\n",
       "      <td>-11.07%</td>\n",
       "    </tr>\n",
       "    <tr>\n",
       "      <th>58</th>\n",
       "      <td>Waalwijk</td>\n",
       "      <td>€ 2.724</td>\n",
       "      <td>-6.17%</td>\n",
       "    </tr>\n",
       "    <tr>\n",
       "      <th>59</th>\n",
       "      <td>Woensdrecht</td>\n",
       "      <td>€ 2.719</td>\n",
       "      <td>3.46%</td>\n",
       "    </tr>\n",
       "    <tr>\n",
       "      <th>60</th>\n",
       "      <td>Zundert</td>\n",
       "      <td>€ 3.276</td>\n",
       "      <td>17.63%</td>\n",
       "    </tr>\n",
       "  </tbody>\n",
       "</table>\n",
       "<p>61 rows × 3 columns</p>\n",
       "</div>"
      ],
      "text/plain": [
       "              City Gem. m2 prijs %Δ M2 prijs (t.o.v vorige maand)\n",
       "0     Alphen-Chaam       € 2.430                          -23.27%\n",
       "1           Altena       € 2.928                            2.59%\n",
       "2            Asten       € 2.809                            4.08%\n",
       "3    Baarle-Nassau       € 3.733                           48.08%\n",
       "4         Bergeijk       € 3.427                            3.82%\n",
       "..             ...           ...                              ...\n",
       "56           Vught       € 3.835                            1.64%\n",
       "57          Waalre       € 3.734                          -11.07%\n",
       "58        Waalwijk       € 2.724                           -6.17%\n",
       "59     Woensdrecht       € 2.719                            3.46%\n",
       "60         Zundert       € 3.276                           17.63%\n",
       "\n",
       "[61 rows x 3 columns]"
      ]
     },
     "execution_count": 137,
     "metadata": {},
     "output_type": "execute_result"
    }
   ],
   "source": [
    "pd.DataFrame(m2_prijs)"
   ]
  },
  {
   "cell_type": "markdown",
   "id": "1dae1211",
   "metadata": {},
   "source": [
    "### Percentage overboden (Quadrant 4 Trend data)"
   ]
  },
  {
   "cell_type": "code",
   "execution_count": 142,
   "id": "92a442ba",
   "metadata": {},
   "outputs": [],
   "source": [
    "def extract_city_trends3(page_urls): #STATUS: change the input still to the correct list name for all municipalities of all provinces!! \n",
    "    trend_list3 = []\n",
    "    for page_url in page_urls:\n",
    "        driver.get(page_url) #FEEDBACK UPDATE \n",
    "        time.sleep(5) #FEEDBACK UPDATE\n",
    "        soup = BeautifulSoup(res.text, 'html.parser')\n",
    "        city_name = soup.find_all('h2')[0].get_text()\n",
    "        city_name1 = city_name.replace('Woningmarkt','')\n",
    "        trends = soup.find_all(class_='trend-graph')[3].get_text()\n",
    "        new_trend = trends.replace('\\n','')\n",
    "        new_trend1 = new_trend.replace('Percentage overboden','')\n",
    "        overboden,change = new_trend1.split('                ',1)\n",
    "        change1 = change.replace(' t.o.v. vorige maand            ', '')\n",
    "        trend_list3.append({'City':city_name1, '% Vraagprijs overboden':overboden, '%Δ Overboden (t.o.v vorige maand)': change1})\n",
    "    return(trend_list3)"
   ]
  },
  {
   "cell_type": "code",
   "execution_count": 143,
   "id": "4ef24b97",
   "metadata": {},
   "outputs": [],
   "source": [
    "perc_overboden = extract_city_trends3(page_urls) #use the function \n",
    "print(perc_overboden) #check if it works"
   ]
  },
  {
   "cell_type": "markdown",
   "id": "bff8ecf8",
   "metadata": {},
   "source": [
    "We generate a Pandas dataframe of the data we just collected for all municipalities."
   ]
  },
  {
   "cell_type": "code",
   "execution_count": 144,
   "id": "61fe948c",
   "metadata": {},
   "outputs": [
    {
     "data": {
      "text/html": [
       "<div>\n",
       "<style scoped>\n",
       "    .dataframe tbody tr th:only-of-type {\n",
       "        vertical-align: middle;\n",
       "    }\n",
       "\n",
       "    .dataframe tbody tr th {\n",
       "        vertical-align: top;\n",
       "    }\n",
       "\n",
       "    .dataframe thead th {\n",
       "        text-align: right;\n",
       "    }\n",
       "</style>\n",
       "<table border=\"1\" class=\"dataframe\">\n",
       "  <thead>\n",
       "    <tr style=\"text-align: right;\">\n",
       "      <th></th>\n",
       "      <th>City</th>\n",
       "      <th>% Vraagprijs overboden</th>\n",
       "      <th>%Δ Overboden (t.o.v vorige maand)</th>\n",
       "    </tr>\n",
       "  </thead>\n",
       "  <tbody>\n",
       "    <tr>\n",
       "      <th>0</th>\n",
       "      <td>Alphen-Chaam</td>\n",
       "      <td>1.63%</td>\n",
       "      <td>-2.14%</td>\n",
       "    </tr>\n",
       "    <tr>\n",
       "      <th>1</th>\n",
       "      <td>Altena</td>\n",
       "      <td>8.79%</td>\n",
       "      <td>-0.22%</td>\n",
       "    </tr>\n",
       "    <tr>\n",
       "      <th>2</th>\n",
       "      <td>Asten</td>\n",
       "      <td>7.15%</td>\n",
       "      <td>-0.35%</td>\n",
       "    </tr>\n",
       "    <tr>\n",
       "      <th>3</th>\n",
       "      <td>Baarle-Nassau</td>\n",
       "      <td>15.02%</td>\n",
       "      <td>17.89%</td>\n",
       "    </tr>\n",
       "    <tr>\n",
       "      <th>4</th>\n",
       "      <td>Bergeijk</td>\n",
       "      <td>3.36%</td>\n",
       "      <td>1.60%</td>\n",
       "    </tr>\n",
       "    <tr>\n",
       "      <th>...</th>\n",
       "      <td>...</td>\n",
       "      <td>...</td>\n",
       "      <td>...</td>\n",
       "    </tr>\n",
       "    <tr>\n",
       "      <th>56</th>\n",
       "      <td>Vught</td>\n",
       "      <td>6.89%</td>\n",
       "      <td>-0.22%</td>\n",
       "    </tr>\n",
       "    <tr>\n",
       "      <th>57</th>\n",
       "      <td>Waalre</td>\n",
       "      <td>10.64%</td>\n",
       "      <td>0.37%</td>\n",
       "    </tr>\n",
       "    <tr>\n",
       "      <th>58</th>\n",
       "      <td>Waalwijk</td>\n",
       "      <td>5.48%</td>\n",
       "      <td>1.02%</td>\n",
       "    </tr>\n",
       "    <tr>\n",
       "      <th>59</th>\n",
       "      <td>Woensdrecht</td>\n",
       "      <td>7.02%</td>\n",
       "      <td>2.56%</td>\n",
       "    </tr>\n",
       "    <tr>\n",
       "      <th>60</th>\n",
       "      <td>Zundert</td>\n",
       "      <td>4.07%</td>\n",
       "      <td>-0.45%</td>\n",
       "    </tr>\n",
       "  </tbody>\n",
       "</table>\n",
       "<p>61 rows × 3 columns</p>\n",
       "</div>"
      ],
      "text/plain": [
       "              City % Vraagprijs overboden %Δ Overboden (t.o.v vorige maand)\n",
       "0     Alphen-Chaam                  1.63%                            -2.14%\n",
       "1           Altena                  8.79%                            -0.22%\n",
       "2            Asten                  7.15%                            -0.35%\n",
       "3    Baarle-Nassau                 15.02%                            17.89%\n",
       "4         Bergeijk                  3.36%                             1.60%\n",
       "..             ...                    ...                               ...\n",
       "56           Vught                  6.89%                            -0.22%\n",
       "57          Waalre                 10.64%                             0.37%\n",
       "58        Waalwijk                  5.48%                             1.02%\n",
       "59     Woensdrecht                  7.02%                             2.56%\n",
       "60         Zundert                  4.07%                            -0.45%\n",
       "\n",
       "[61 rows x 3 columns]"
      ]
     },
     "execution_count": 144,
     "metadata": {},
     "output_type": "execute_result"
    }
   ],
   "source": [
    "pd.DataFrame(perc_overboden)"
   ]
  },
  {
   "cell_type": "markdown",
   "id": "d5abe54c",
   "metadata": {},
   "source": [
    "## Step 3b: Gather all data for all municipalties: Besteedbaar inkomen and # inhabitants. "
   ]
  },
  {
   "cell_type": "markdown",
   "id": "06d970e5",
   "metadata": {},
   "source": [
    "For each municipality we now extract the Besteedbaar inkomen per huishouden, the number of inhabitants and its % change t.o.v. the year before."
   ]
  },
  {
   "cell_type": "markdown",
   "id": "d6933ddd",
   "metadata": {},
   "source": [
    "### Besteedbaar inkomen "
   ]
  },
  {
   "cell_type": "code",
   "execution_count": 145,
   "id": "3f6203b2",
   "metadata": {},
   "outputs": [],
   "source": [
    "def extract_besteedbaar(page_urls): #STATUS: change the input still to the correct list name for all municipalities of all provinces!! \n",
    "    besteed_inkomen = []\n",
    "    for page_url in page_urls:\n",
    "        driver.get(page_url) #FEEDBACK UPDATE\n",
    "        time.sleep(5) #FEEDBACK UPDATE\n",
    "        soup = BeautifulSoup(res.text, 'html.parser')\n",
    "        city_name = soup.find_all('h2')[0].get_text()\n",
    "        city_name1 = city_name.replace('Woningmarkt','')\n",
    "        inkomen = soup.find_all(class_='detail__income huizenzoeker-card single-value-graph-container')[0].get_text()\n",
    "        new_inkomen = inkomen.replace('\\n','')\n",
    "        new_inkomen1 = new_inkomen.replace('Besteedbaar Inkomen Per Huishouden','')\n",
    "        besteed_inkomen.append({'City':city_name1, 'Besteedbaar inkomen (per huishouden)':new_inkomen1})\n",
    "    return(besteed_inkomen)"
   ]
  },
  {
   "cell_type": "code",
   "execution_count": 146,
   "id": "cde9fc51",
   "metadata": {},
   "outputs": [],
   "source": [
    "besteed_inkomen = extract_besteedbaar(page_urls) #use the function \n",
    "print(besteed_inkomen) #check whether it works"
   ]
  },
  {
   "cell_type": "markdown",
   "id": "501a8bbb",
   "metadata": {},
   "source": [
    "We generate a Pandas dataframe of the data we just collected for all municipalities"
   ]
  },
  {
   "cell_type": "code",
   "execution_count": 148,
   "id": "e557997c",
   "metadata": {},
   "outputs": [
    {
     "data": {
      "text/html": [
       "<div>\n",
       "<style scoped>\n",
       "    .dataframe tbody tr th:only-of-type {\n",
       "        vertical-align: middle;\n",
       "    }\n",
       "\n",
       "    .dataframe tbody tr th {\n",
       "        vertical-align: top;\n",
       "    }\n",
       "\n",
       "    .dataframe thead th {\n",
       "        text-align: right;\n",
       "    }\n",
       "</style>\n",
       "<table border=\"1\" class=\"dataframe\">\n",
       "  <thead>\n",
       "    <tr style=\"text-align: right;\">\n",
       "      <th></th>\n",
       "      <th>City</th>\n",
       "      <th>Besteedbaar inkomen (per huishouden)</th>\n",
       "    </tr>\n",
       "  </thead>\n",
       "  <tbody>\n",
       "    <tr>\n",
       "      <th>0</th>\n",
       "      <td>Alphen-Chaam</td>\n",
       "      <td>€ 45.700</td>\n",
       "    </tr>\n",
       "    <tr>\n",
       "      <th>1</th>\n",
       "      <td>Altena</td>\n",
       "      <td>€ 43.400</td>\n",
       "    </tr>\n",
       "    <tr>\n",
       "      <th>2</th>\n",
       "      <td>Asten</td>\n",
       "      <td>€ 40.200</td>\n",
       "    </tr>\n",
       "    <tr>\n",
       "      <th>3</th>\n",
       "      <td>Baarle-Nassau</td>\n",
       "      <td>€ 37.700</td>\n",
       "    </tr>\n",
       "    <tr>\n",
       "      <th>4</th>\n",
       "      <td>Bergeijk</td>\n",
       "      <td>€ 43.600</td>\n",
       "    </tr>\n",
       "    <tr>\n",
       "      <th>...</th>\n",
       "      <td>...</td>\n",
       "      <td>...</td>\n",
       "    </tr>\n",
       "    <tr>\n",
       "      <th>56</th>\n",
       "      <td>Vught</td>\n",
       "      <td>€ 43.500</td>\n",
       "    </tr>\n",
       "    <tr>\n",
       "      <th>57</th>\n",
       "      <td>Waalre</td>\n",
       "      <td>€ 47.300</td>\n",
       "    </tr>\n",
       "    <tr>\n",
       "      <th>58</th>\n",
       "      <td>Waalwijk</td>\n",
       "      <td>€ 37.500</td>\n",
       "    </tr>\n",
       "    <tr>\n",
       "      <th>59</th>\n",
       "      <td>Woensdrecht</td>\n",
       "      <td>€ 38.800</td>\n",
       "    </tr>\n",
       "    <tr>\n",
       "      <th>60</th>\n",
       "      <td>Zundert</td>\n",
       "      <td>€ 40.700</td>\n",
       "    </tr>\n",
       "  </tbody>\n",
       "</table>\n",
       "<p>61 rows × 2 columns</p>\n",
       "</div>"
      ],
      "text/plain": [
       "              City Besteedbaar inkomen (per huishouden)\n",
       "0     Alphen-Chaam                             € 45.700\n",
       "1           Altena                             € 43.400\n",
       "2            Asten                             € 40.200\n",
       "3    Baarle-Nassau                             € 37.700\n",
       "4         Bergeijk                             € 43.600\n",
       "..             ...                                  ...\n",
       "56           Vught                             € 43.500\n",
       "57          Waalre                             € 47.300\n",
       "58        Waalwijk                             € 37.500\n",
       "59     Woensdrecht                             € 38.800\n",
       "60         Zundert                             € 40.700\n",
       "\n",
       "[61 rows x 2 columns]"
      ]
     },
     "execution_count": 148,
     "metadata": {},
     "output_type": "execute_result"
    }
   ],
   "source": [
    "pd.DataFrame(besteed_inkomen)"
   ]
  },
  {
   "cell_type": "markdown",
   "id": "561bd0b3",
   "metadata": {},
   "source": [
    "### Inhabitants"
   ]
  },
  {
   "cell_type": "markdown",
   "id": "0aac54b1",
   "metadata": {},
   "source": [
    "We generate a function extract_inhabitants that will extract the data of the number of inhabitants for all municipalities, and how this number has changed t.o.v. last year."
   ]
  },
  {
   "cell_type": "markdown",
   "id": "04287fdd",
   "metadata": {},
   "source": [
    "*Insert code for this still*"
   ]
  },
  {
   "cell_type": "code",
   "execution_count": null,
   "id": "1a80239d",
   "metadata": {},
   "outputs": [],
   "source": []
  },
  {
   "cell_type": "markdown",
   "id": "42b4146f",
   "metadata": {},
   "source": [
    "## Step 5: Merging all data gathered (by city name) "
   ]
  },
  {
   "cell_type": "markdown",
   "id": "f79a0fa2",
   "metadata": {},
   "source": [
    "For the final output (a CSV file, so tabular data) we would want the output of the scraper to be gathered in one single dictionary."
   ]
  },
  {
   "cell_type": "markdown",
   "id": "e850d9d4",
   "metadata": {},
   "source": [
    "Here we name the Pandas Dataframes for each quadrant of the trend data we extracted, and also for the besteedbaar inkomen and inhabitants data. We set the index of the dataframes to the name of the municipality."
   ]
  },
  {
   "cell_type": "code",
   "execution_count": 150,
   "id": "7ca5e798",
   "metadata": {},
   "outputs": [],
   "source": [
    "df1 = pd.DataFrame(gem_vraagprijs2).set_index('City') #gemiddelde vraagprijs"
   ]
  },
  {
   "cell_type": "code",
   "execution_count": 151,
   "id": "851940b2",
   "metadata": {},
   "outputs": [],
   "source": [
    "df2 = pd.DataFrame(verk_woningen2).set_index('City') #aantal verkochte woningen "
   ]
  },
  {
   "cell_type": "code",
   "execution_count": 157,
   "id": "3cf0983f",
   "metadata": {},
   "outputs": [],
   "source": [
    "df3 = pd.DataFrame(m2_prijs2).set_index('City') #vierkantemeter prijs "
   ]
  },
  {
   "cell_type": "code",
   "execution_count": 158,
   "id": "8af33952",
   "metadata": {},
   "outputs": [],
   "source": [
    "df4 = pd.DataFrame(perc_overboden2).set_index('City') #percentage overboden"
   ]
  },
  {
   "cell_type": "code",
   "execution_count": 159,
   "id": "f928730b",
   "metadata": {},
   "outputs": [],
   "source": [
    "df5 = pd.DataFrame(besteed_inkomen).set_index('City') #besteedbaar inkomen "
   ]
  },
  {
   "cell_type": "code",
   "execution_count": null,
   "id": "14c5105d",
   "metadata": {},
   "outputs": [],
   "source": [
    "#add a dataframe for the inhabitants data, once finished. "
   ]
  },
  {
   "cell_type": "code",
   "execution_count": 160,
   "id": "ee2bc096",
   "metadata": {},
   "outputs": [],
   "source": [
    "data_frames = [df1,df2,df3,df4,df5] #now we combine the dataframes into one single dataframe"
   ]
  },
  {
   "cell_type": "markdown",
   "id": "d0e3bb3f",
   "metadata": {},
   "source": [
    "The final output: "
   ]
  },
  {
   "cell_type": "code",
   "execution_count": 162,
   "id": "b37e0050",
   "metadata": {},
   "outputs": [],
   "source": [
    "df_merged = reduce(lambda left,right: pd.merge(left,right,on=['City'],how='outer'),data_frames)\n",
    "df_merged "
   ]
  }
 ],
 "metadata": {
  "kernelspec": {
   "display_name": "Python 3",
   "language": "python",
   "name": "python3"
  },
  "language_info": {
   "codemirror_mode": {
    "name": "ipython",
    "version": 3
   },
   "file_extension": ".py",
   "mimetype": "text/x-python",
   "name": "python",
   "nbconvert_exporter": "python",
   "pygments_lexer": "ipython3",
   "version": "3.8.8"
  }
 },
 "nbformat": 4,
 "nbformat_minor": 5
}
